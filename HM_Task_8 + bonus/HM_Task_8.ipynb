{
 "cells": [
  {
   "cell_type": "markdown",
   "metadata": {},
   "source": [
    "# ВВЕДЕНИЕ В ВЫСШУЮ МАТЕМАТИКУ\n",
    "****************"
   ]
  },
  {
   "cell_type": "markdown",
   "metadata": {},
   "source": [
    "## Практическое задание к `Уроку 8`"
   ]
  },
  {
   "cell_type": "markdown",
   "metadata": {},
   "source": [
    "##### Тема “Система линейных алгебраичсеких уравнений”"
   ]
  },
  {
   "cell_type": "code",
   "execution_count": 2,
   "metadata": {},
   "outputs": [],
   "source": [
    "import pandas as pd\n",
    "import numpy as np\n",
    "import scipy\n",
    "from numpy import (pi,sin,arcsin,cos,arccos,tan,sqrt,exp)\n",
    "import math\n",
    "import matplotlib.pyplot as plt\n",
    "from pylab import *\n",
    "from scipy.optimize import fsolve\n",
    "import warnings\n",
    "warnings.filterwarnings('ignore')\n",
    "%matplotlib inline"
   ]
  },
  {
   "cell_type": "markdown",
   "metadata": {},
   "source": [
    "##### 1. Решите линейную систему:"
   ]
  },
  {
   "cell_type": "markdown",
   "metadata": {},
   "source": [
    "$\\left[\\begin{array}{ccc} 1 && 2 && 3\\\\4 && 0 && 6\\\\7 && 8 && 9\\end{array}\\right]\\; \\cdot X = \\left[\\begin{array}{ccc}12\\\\2\\\\1\\end{array}\\right]\\;$"
   ]
  },
  {
   "cell_type": "code",
   "execution_count": 4,
   "metadata": {},
   "outputs": [
    {
     "data": {
      "text/plain": [
       "array([-9.2       ,  0.9       ,  6.46666667])"
      ]
     },
     "execution_count": 4,
     "metadata": {},
     "output_type": "execute_result"
    }
   ],
   "source": [
    "A1 = np.array([[1., 2., 3.], [4., 0., 6.], [7., 8., 9.]])\n",
    "b1 = np.array([12., 2., 1.])\n",
    "np.linalg.solve(A1, b1)"
   ]
  },
  {
   "cell_type": "markdown",
   "metadata": {},
   "source": [
    "###### 2. Найдите псевдорешение:\n",
    "$ x + 2y – z = 1 \\\\\n",
    "3x – 4y = 7 \\\\\n",
    "8x – 5y + 2z = 12 \\\\\n",
    "2x – 5z = 7 \\\\\n",
    "11x +4y – 7z = 15 $ "
   ]
  },
  {
   "cell_type": "code",
   "execution_count": 7,
   "metadata": {},
   "outputs": [],
   "source": [
    "A2 = np.array([[1, 2, 1], [3, 4, 0], [8, 5, 2], [2, 0, 5], [11, 4, 7]])\n",
    "B2 = np.array([[1, 2, 1, 1], [3, 4, 0, 7], [8, 5, 2, 12], [2, 0, 5, 7], [11, 4, 7, 15]])\n",
    "b2 = np.array([1, 7, 12, 7, 15])"
   ]
  },
  {
   "cell_type": "code",
   "execution_count": 8,
   "metadata": {},
   "outputs": [
    {
     "name": "stdout",
     "output_type": "stream",
     "text": [
      "ранг основной матрицы 3\n",
      "ранг расширенной матрицы 4\n",
      "Система линейных уравнений несовместна\n"
     ]
    }
   ],
   "source": [
    "print(f'ранг основной матрицы {np.linalg.matrix_rank(A2)}')\n",
    "print(f'ранг расширенной матрицы {np.linalg.matrix_rank(B2)}')\n",
    "print('Система линейных уравнений несовместна')"
   ]
  },
  {
   "cell_type": "code",
   "execution_count": 12,
   "metadata": {},
   "outputs": [
    {
     "data": {
      "text/plain": [
       "array([0.50156212, 1.07281903, 0.88512377])"
      ]
     },
     "execution_count": 12,
     "metadata": {},
     "output_type": "execute_result"
    }
   ],
   "source": [
    "Q2 =  np.linalg.lstsq(A2, b2)\n",
    "Q2[0]"
   ]
  },
  {
   "cell_type": "code",
   "execution_count": 14,
   "metadata": {},
   "outputs": [
    {
     "data": {
      "text/plain": [
       "array([0.50156212, 1.07281903, 0.88512377])"
      ]
     },
     "execution_count": 14,
     "metadata": {},
     "output_type": "execute_result"
    }
   ],
   "source": [
    "# Решение через линейную редукцию\n",
    "R2 = np.dot(np.linalg.inv(np.dot(A2.T, A2)),A2.T)\n",
    "np.dot(R2, b2)"
   ]
  },
  {
   "cell_type": "markdown",
   "metadata": {},
   "source": [
    "##### 3. Сколько решений имеет линейная система: \n",
    "\n",
    "$\\left[\\begin{array}{ccc} 1 && 2 && 3\\\\4 && 0 && 6\\\\7 && 8 && 9\\end{array}\\right]\\; \\cdot X = \\left[\\begin{array}{ccc}12\\\\2\\\\1\\end{array}\\right]\\;$\n",
    "\n",
    "Если ноль – то измените вектор правой части так, чтобы система стала совместной, и решите ее. "
   ]
  },
  {
   "cell_type": "code",
   "execution_count": 18,
   "metadata": {},
   "outputs": [],
   "source": [
    "A3 = np.array([[1, 2, 3], [4, 0, 6], [7, 8, 9]])\n",
    "B3 = np.array([[1, 2, 3, 12], [4, 0, 6, 2], [7, 8, 9, 1]])\n",
    "b3 = np.array([12, 2, 1])"
   ]
  },
  {
   "cell_type": "code",
   "execution_count": 19,
   "metadata": {},
   "outputs": [
    {
     "name": "stdout",
     "output_type": "stream",
     "text": [
      "ранг основной матрицы 3\n",
      "ранг расширенной матрицы 3\n",
      "Система линейных уравнений совместна\n"
     ]
    }
   ],
   "source": [
    "print(f'ранг основной матрицы {np.linalg.matrix_rank(A3)}')\n",
    "print(f'ранг расширенной матрицы {np.linalg.matrix_rank(B3)}')\n",
    "print('Система линейных уравнений совместна')"
   ]
  },
  {
   "cell_type": "code",
   "execution_count": 20,
   "metadata": {},
   "outputs": [
    {
     "data": {
      "text/plain": [
       "array([-9.2       ,  0.9       ,  6.46666667])"
      ]
     },
     "execution_count": 20,
     "metadata": {},
     "output_type": "execute_result"
    }
   ],
   "source": [
    "np.linalg.solve(A3, b3)"
   ]
  },
  {
   "cell_type": "markdown",
   "metadata": {},
   "source": [
    "##### 4. Вычислите LU-разложение матрицы:\n",
    "\n",
    "\n",
    "$\\left[\\begin{array}{ccc} 1 && 2 && 3\\\\2 && 16 && 21\\\\4 && 28 && 73\\end{array}\\right]\\;$ \n",
    " \n",
    "После этого придумайте вектор правых частей и решите полученную линейную систему трех уравнений с данной матрицей."
   ]
  },
  {
   "cell_type": "code",
   "execution_count": 115,
   "metadata": {},
   "outputs": [],
   "source": [
    "A4 = np.array([[1, 2, 3], [2, 16, 21], [4, 28, 73]])"
   ]
  },
  {
   "cell_type": "code",
   "execution_count": 136,
   "metadata": {},
   "outputs": [
    {
     "name": "stdout",
     "output_type": "stream",
     "text": [
      "L\n",
      "[[ 1.  2.  3.]\n",
      " [ 0. 12. 15.]\n",
      " [ 0.  0. 36.]]\n",
      "\n",
      "U\n",
      "[[ 0.74482759  0.          0.        ]\n",
      " [ 0.84931507  7.94520548  0.        ]\n",
      " [ 4.         28.         73.        ]]\n"
     ]
    }
   ],
   "source": [
    "L = np.array([[1., 2., 3.], [2., 16., 21.], [4., 28., 73.]])\n",
    "L[1] = L[1]+L[0]*(-L[1,0])\n",
    "L[2] = L[2] + L[0]*(-L[2,0])\n",
    "L[2] = L[2] + L[1]*(-L[2,1]/L[1,1])\n",
    "\n",
    "U = np.array([[1., 2., 3.], [2., 16., 21.], [4., 28., 73.]])\n",
    "U[1] = U[1]+U[2]*(-U[1,2]/U[2,2])\n",
    "U[0] = U[0] + U[2]*(-U[0,2]/U[2,2])\n",
    "U[0] = U[0] + U[1]*(-U[0,1]/U[1,1])\n",
    "\n",
    "print(f'L\\n{L}\\n\\nU\\n{U}')"
   ]
  },
  {
   "cell_type": "markdown",
   "metadata": {},
   "source": [
    "##### LU-разложение с помощью модуля scipy:"
   ]
  },
  {
   "cell_type": "code",
   "execution_count": 119,
   "metadata": {},
   "outputs": [
    {
     "name": "stdout",
     "output_type": "stream",
     "text": [
      "P:\n",
      " [[0. 1. 0.]\n",
      " [0. 0. 1.]\n",
      " [1. 0. 0.]]\n",
      "L:\n",
      " [[ 1.    0.    0.  ]\n",
      " [ 0.25  1.    0.  ]\n",
      " [ 0.5  -0.4   1.  ]]\n",
      "U:\n",
      " [[  4.    28.    73.  ]\n",
      " [  0.    -5.   -15.25]\n",
      " [  0.     0.   -21.6 ]]\n"
     ]
    }
   ],
   "source": [
    "P4, L4, U4 = scipy.linalg.lu(A4)\n",
    "print(f'P:\\n {P4}\\nL:\\n {L4}\\nU:\\n {U4}')"
   ]
  },
  {
   "cell_type": "code",
   "execution_count": 117,
   "metadata": {},
   "outputs": [],
   "source": [
    "def gauss(x): # полезные материалы https://slemeshevsky.github.io/python-num-pde/term1/build/html/_sles/gauss.html#sles-lu\n",
    "    x = np.array(x,float)\n",
    "    return x[1:]/x[0]\n",
    "\n",
    "def gauss_app(C, t):\n",
    "    C = np.array(C, float)\n",
    "    t = np.array([[t[i]] for i in range(len(t))], float)\n",
    "    C[1:,:] = C[1:,:] - t*C[0,:]\n",
    "    return C\n",
    "def lu(A):\n",
    "    LU = np.array(A, float)\n",
    "    for k  in range(LU.shape[0]-1):\n",
    "        t = gauss(LU[k:, k])\n",
    "        LU[k+1:,k] = t\n",
    "        LU[k:, k+1:] = gauss_app(LU[k:, k+1:], t)\n",
    "    return LU\n",
    "\n",
    "def solve_lu(A, b):\n",
    "    LU = lu(A)\n",
    "    b = np.array(b,float)\n",
    "    for i in range(1,len(b)):\n",
    "        b[i] = b[i] - np.dot(LU[i,:i],b[:i])\n",
    "    for i in range(len(b)-1, -1, -1):\n",
    "        b[i] = (b[i] - np.dot(LU[i,i+1:],b[i+1:]))/LU[i,i]\n",
    "    return b"
   ]
  },
  {
   "cell_type": "code",
   "execution_count": 118,
   "metadata": {},
   "outputs": [
    {
     "data": {
      "text/plain": [
       "array([-1.68518519,  1.28703704,  1.03703704])"
      ]
     },
     "execution_count": 118,
     "metadata": {},
     "output_type": "execute_result"
    }
   ],
   "source": [
    "b4 = np.array([4, 39, 105])\n",
    "solve_lu(A4, b4)"
   ]
  },
  {
   "cell_type": "markdown",
   "metadata": {},
   "source": [
    "##### 5. Найдите нормальное псевдорешение недоопределенной системы:\n",
    "$x + 2y – z = 1 \\\\\n",
    "8x – 5y + 2z = 12$\n",
    "\n",
    "Для этого определите функцию Q(x,y,z), равную норме решения, и найдите ее минимум. "
   ]
  },
  {
   "cell_type": "code",
   "execution_count": 9,
   "metadata": {},
   "outputs": [
    {
     "data": {
      "text/plain": [
       "array([ 1.70253165, -0.21518987, -0.2721519 ])"
      ]
     },
     "execution_count": 9,
     "metadata": {},
     "output_type": "execute_result"
    }
   ],
   "source": [
    "A5 = np.array([[1., 2., 1.], [8., 5., 2.]])\n",
    "b5 = np.array([1., 12.])\n",
    "Q5 =  np.linalg.lstsq(A5, b5)\n",
    "Q5[0]"
   ]
  },
  {
   "cell_type": "markdown",
   "metadata": {},
   "source": [
    "##### 6. Найдите одно из псевдорешений вырожденной системы:\n",
    "\n",
    "$\\left[\\begin{array}{ccc} 1 && 2 && 3\\\\4 && 5 && 6\\\\7 && 8 && 9\\end{array}\\right]\\; \\cdot X = \\left[\\begin{array}{ccc}2\\\\5\\\\11\\end{array}\\right]\\;$\n",
    "   \n",
    "Попробуйте также отыскать и нормальное псевдорешение."
   ]
  },
  {
   "cell_type": "code",
   "execution_count": 8,
   "metadata": {},
   "outputs": [
    {
     "data": {
      "text/plain": [
       "array([ 1.25,  0.5 , -0.25])"
      ]
     },
     "execution_count": 8,
     "metadata": {},
     "output_type": "execute_result"
    }
   ],
   "source": [
    "A6 = np.array([[1., 2., 3.], [4., 5., 6.], [7., 8., 9.]])\n",
    "b6 = np.array([2., 5., 11.])\n",
    "Q6 =  np.linalg.lstsq(A6, b6)\n",
    "Q6[0]"
   ]
  }
 ],
 "metadata": {
  "kernelspec": {
   "display_name": "Python 3",
   "language": "python",
   "name": "python3"
  },
  "language_info": {
   "codemirror_mode": {
    "name": "ipython",
    "version": 3
   },
   "file_extension": ".py",
   "mimetype": "text/x-python",
   "name": "python",
   "nbconvert_exporter": "python",
   "pygments_lexer": "ipython3",
   "version": "3.7.3"
  }
 },
 "nbformat": 4,
 "nbformat_minor": 2
}
