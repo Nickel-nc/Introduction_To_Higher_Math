{
 "cells": [
  {
   "cell_type": "markdown",
   "metadata": {},
   "source": [
    "## Решение задач линейной алгебры"
   ]
  },
  {
   "cell_type": "code",
   "execution_count": 1,
   "metadata": {},
   "outputs": [],
   "source": [
    "import numpy as np\n",
    "import matplotlib.pyplot as plt\n",
    "from pylab import *\n",
    "from scipy.optimize import fsolve\n",
    "import warnings\n",
    "warnings.filterwarnings('ignore')\n",
    "%matplotlib inline"
   ]
  },
  {
   "cell_type": "markdown",
   "metadata": {},
   "source": [
    "##### 1. Предположим, мы взвешиваем одинаковые груши (х) и яблоки (y). Оцените их вес, если мы делаем три взвешивания:\n",
    "х+2у=500 \n",
    "3х+у=750\n",
    "2х+2у=700"
   ]
  },
  {
   "cell_type": "code",
   "execution_count": 265,
   "metadata": {},
   "outputs": [
    {
     "name": "stdout",
     "output_type": "stream",
     "text": [
      "ранг основной матрицы 2\n",
      "ранг расширенной матрицы 2\n",
      "Система совместна и имеет 1 решение\n"
     ]
    }
   ],
   "source": [
    "A1  = np.array([[1,2],[3,1],[2,2]])\n",
    "B1  = np.array([[1,2,500],[3,1,750],[2,2,700]])\n",
    "print(f'ранг основной матрицы {np.linalg.matrix_rank(A1)}')\n",
    "print(f'ранг расширенной матрицы {np.linalg.matrix_rank(B1)}')\n",
    "print('Система совместна и имеет 1 решение')"
   ]
  },
  {
   "cell_type": "code",
   "execution_count": 36,
   "metadata": {},
   "outputs": [
    {
     "data": {
      "text/plain": [
       "array([[   1.,    2.,  500.],\n",
       "       [   0.,   -1., -150.],\n",
       "       [   0.,    0.,    0.]])"
      ]
     },
     "execution_count": 36,
     "metadata": {},
     "output_type": "execute_result"
    }
   ],
   "source": [
    "# Данная матрица решается с помощью метода Гаусса\n",
    "A = np.array([[1, 2, 500], [3, 1, 750], [2, 2, 700]], float)\n",
    "A[1] = A[1]+A[0]*(-3)\n",
    "A[2] = (A[2] + A[0]*(-2))/2\n",
    "tmp = np.array(A[1])\n",
    "A[1] = A[2]\n",
    "A[2] = tmp + A[1]*(-5)\n",
    "A"
   ]
  },
  {
   "cell_type": "markdown",
   "metadata": {},
   "source": [
    "x = 200, y = 150"
   ]
  },
  {
   "cell_type": "markdown",
   "metadata": {},
   "source": [
    "т.к. третье уравнение системы не участвует в образовании базисного минора, его можно исключить из системы на основании теоремы о ранге матрицы"
   ]
  },
  {
   "cell_type": "code",
   "execution_count": 311,
   "metadata": {},
   "outputs": [
    {
     "data": {
      "text/plain": [
       "array([200., 150.])"
      ]
     },
     "execution_count": 311,
     "metadata": {},
     "output_type": "execute_result"
    }
   ],
   "source": [
    "M1 = np.array([[1.0, 2.0], [3.0, 1.0]]) # Матрица (левая часть системы)\n",
    "# M12 = np.array([[1.0, 2.0], [2.0, 2.0]])\n",
    "v1 = np.array([500.0, 750.0]) # Вектор (правая часть системы)\n",
    "# v12 = np.array([500.0, 700.0])\n",
    "np.linalg.solve(M1, v1)"
   ]
  },
  {
   "cell_type": "markdown",
   "metadata": {},
   "source": [
    "##### 2. Как изменится ответ, если результат последнего взвешивания будет не 700, а 650 (г)?\n",
    "х+2у=500 \n",
    "3х+у=750\n",
    "2х+2у=650"
   ]
  },
  {
   "cell_type": "code",
   "execution_count": 193,
   "metadata": {},
   "outputs": [],
   "source": [
    "A2 = np.array([[1,2],[3,1],[2,2]])\n",
    "B2 = np.array([[1,2,500],[3,1,750],[2,2,650]])\n",
    "v2 = np.array([500, 750, 650])"
   ]
  },
  {
   "cell_type": "code",
   "execution_count": 194,
   "metadata": {
    "scrolled": true
   },
   "outputs": [
    {
     "data": {
      "text/plain": [
       "array([200.        , 138.88888889])"
      ]
     },
     "execution_count": 194,
     "metadata": {},
     "output_type": "execute_result"
    }
   ],
   "source": [
    "# Решение через линейную редукцию\n",
    "R2 = np.dot(np.linalg.inv(np.dot(A2.T, A2)),A2.T)\n",
    "np.dot(R2, v2)"
   ]
  },
  {
   "cell_type": "code",
   "execution_count": 304,
   "metadata": {},
   "outputs": [
    {
     "name": "stdout",
     "output_type": "stream",
     "text": [
      "ранг основной матрицы 2\n",
      "ранг расширенной матрицы 3\n",
      "Система линейных уравнений несовместна\n"
     ]
    },
    {
     "data": {
      "image/png": "[encoded data removed]",
      "text/plain": [
       "<Figure size 432x288 with 1 Axes>"
      ]
     },
     "metadata": {
      "needs_background": "light"
     },
     "output_type": "display_data"
    }
   ],
   "source": [
    "A2 = np.array([[1,2],[3,1],[2,2]])\n",
    "B2 = np.array([[1,2,500],[3,1,750],[2,2,650]])\n",
    "v2 = np.array([500, 750, 650])\n",
    "\n",
    "print(f'ранг основной матрицы {np.linalg.matrix_rank(A2)}')\n",
    "print(f'ранг расширенной матрицы {np.linalg.matrix_rank(B2)}')\n",
    "print('Система линейных уравнений несовместна')\n",
    "\n",
    "M1 = np.array([[3.0, 1.0], [2.0, 2.0]]) # Матрица (левая часть системы)\n",
    "v1 = np.array([750.0, 650.0]) # Вектор (правая часть системы)\n",
    "np.linalg.solve(M1, v1)\n",
    "\n",
    "x = np.linspace(-500,500,10)\n",
    "y1 = (500-x)/2\n",
    "y2 = 750-3*x\n",
    "y3 = (650-2*x)/2\n",
    "\n",
    "plt.plot(x,y1)\n",
    "plt.plot(x,y2)\n",
    "plt.plot(x,y3)\n",
    "plt.axes().set_aspect(1)\n",
    "plt.grid(True)\n",
    "plt.xlim(100,300)\n",
    "plt.ylim(100,200)\n",
    "plt.show()"
   ]
  },
  {
   "cell_type": "markdown",
   "metadata": {},
   "source": [
    "##### 3. Поменяем третье взвешивание еще раз:\n",
    "х+2у=500 \n",
    "3х+у=750\n",
    "2х+3у=700"
   ]
  },
  {
   "cell_type": "code",
   "execution_count": 266,
   "metadata": {},
   "outputs": [
    {
     "data": {
      "text/plain": [
       "array([210., 110.])"
      ]
     },
     "execution_count": 266,
     "metadata": {},
     "output_type": "execute_result"
    }
   ],
   "source": [
    "A3  = np.array([[1,2],[3,1],[2,3]])\n",
    "v3 = np.array([500, 750, 700])\n",
    "\n",
    "# Решение через линейную редукцию\n",
    "R3 = np.dot(np.linalg.inv(np.dot(A3.T, A3)),A3.T)\n",
    "np.dot(R3, v3)"
   ]
  },
  {
   "cell_type": "code",
   "execution_count": 305,
   "metadata": {},
   "outputs": [
    {
     "name": "stdout",
     "output_type": "stream",
     "text": [
      "ранг основной матрицы 2\n",
      "ранг расширенной матрицы 3\n",
      "Система линейных уравнений несовместна\n"
     ]
    },
    {
     "data": {
      "image/png": "[encoded data removed]",
      "text/plain": [
       "<Figure size 432x288 with 1 Axes>"
      ]
     },
     "metadata": {
      "needs_background": "light"
     },
     "output_type": "display_data"
    },
    {
     "name": "stdout",
     "output_type": "stream",
     "text": [
      "[200. 150.]\n",
      "[-100.  300.]\n",
      "[221.42857143  85.71428571]\n"
     ]
    }
   ],
   "source": [
    "A3  = np.array([[1,2],[3,1],[2,3]])\n",
    "B3  = np.array([[1,2,500],[3,1,750],[2,3,700]])\n",
    "\n",
    "print(f'ранг основной матрицы {np.linalg.matrix_rank(A3)}')\n",
    "print(f'ранг расширенной матрицы {np.linalg.matrix_rank(B3)}')\n",
    "print('Система линейных уравнений несовместна')\n",
    "\n",
    "x = np.linspace(-500,500,10)\n",
    "y1 = (500-x)/2\n",
    "y2 = 750-3*x\n",
    "y3 = (700-2*x)/3\n",
    "\n",
    "plt.plot(x,y1)\n",
    "plt.plot(x,y2)\n",
    "plt.plot(x,y3)\n",
    "plt.axes().set_aspect(1)\n",
    "plt.grid(True)\n",
    "plt.xlim(-150,300)\n",
    "plt.ylim(75,350)\n",
    "plt.show()\n",
    "\n",
    "\n",
    "M1 = np.array([[1.0, 2.0], [3.0, 1.0]])\n",
    "v1 = np.array([500.0, 750.0])\n",
    "M2 = np.array([[1.0, 2.0], [2.0, 3.0]])\n",
    "v2 = np.array([500.0, 700.0])\n",
    "M3 = np.array([[3.0, 1.0], [2.0, 3.0]])\n",
    "v3 = np.array([750.0, 700.0]) \n",
    "print(np.linalg.solve(M1, v1))\n",
    "print(np.linalg.solve(M2, v2))\n",
    "print(np.linalg.solve(M3, v3))"
   ]
  },
  {
   "cell_type": "markdown",
   "metadata": {},
   "source": [
    "##### 4. Как изменится решение, если добавить 4-е взвешивание?\n",
    "х+2у=500 \n",
    "3х+у=750\n",
    "2х+3у=700\n",
    "х+5у=850"
   ]
  },
  {
   "cell_type": "code",
   "execution_count": 198,
   "metadata": {},
   "outputs": [
    {
     "data": {
      "text/plain": [
       "array([198.78419453, 126.13981763])"
      ]
     },
     "execution_count": 198,
     "metadata": {},
     "output_type": "execute_result"
    }
   ],
   "source": [
    "A4  = np.array([[1,2],[3,1],[2,3],[1,5]])\n",
    "v4 = np.array([500, 750, 700, 850])\n",
    "\n",
    "# Решение через линейную редукцию\n",
    "R4 = np.dot(np.linalg.inv(np.dot(A4.T, A4)),A4.T)\n",
    "np.dot(R4, v4)"
   ]
  },
  {
   "cell_type": "code",
   "execution_count": 306,
   "metadata": {},
   "outputs": [
    {
     "name": "stdout",
     "output_type": "stream",
     "text": [
      "ранг основной матрицы 2\n",
      "ранг расширенной матрицы 3\n",
      "Система линейных уравнений несовместна\n"
     ]
    },
    {
     "data": {
      "image/png": "[encoded data removed]",
      "text/plain": [
       "<Figure size 432x288 with 1 Axes>"
      ]
     },
     "metadata": {
      "needs_background": "light"
     },
     "output_type": "display_data"
    },
    {
     "name": "stdout",
     "output_type": "stream",
     "text": [
      "[200. 150.]\n",
      "[-100.  300.]\n",
      "[266.66666667 116.66666667]\n",
      "[221.42857143  85.71428571]\n",
      "[207.14285714 128.57142857]\n",
      "[135.71428571 142.85714286]\n"
     ]
    }
   ],
   "source": [
    "A4  = np.array([[1,2],[3,1],[2,3],[1,5]])\n",
    "B4  = np.array([[1,2,500],[3,1,750],[2,3,700],[1,5,850]])\n",
    "print(f'ранг основной матрицы {np.linalg.matrix_rank(A4)}')\n",
    "print(f'ранг расширенной матрицы {np.linalg.matrix_rank(B4)}')\n",
    "print('Система линейных уравнений несовместна')\n",
    "\n",
    "x = np.linspace(-500,500,10)\n",
    "y1 = (500-x)/2\n",
    "y2 = 750-3*x\n",
    "y3 = (700-2*x)/3\n",
    "y4 = (850-x)/5\n",
    "\n",
    "plt.plot(x,y1)\n",
    "plt.plot(x,y2)\n",
    "plt.plot(x,y3)\n",
    "plt.plot(x,y4)\n",
    "plt.axes().set_aspect(1)\n",
    "plt.grid(True)\n",
    "plt.xlim(-150,300)\n",
    "plt.ylim(75,350)\n",
    "plt.show()\n",
    "\n",
    "M1 = np.array([[1.0, 2.0], [3.0, 1.0]])\n",
    "v1 = np.array([500.0, 750.0])\n",
    "M2 = np.array([[1.0, 2.0], [2.0, 3.0]])\n",
    "v2 = np.array([500.0, 700.0])\n",
    "M3 = np.array([[1.0, 2.0], [1.0, 5.0]])\n",
    "v3 = np.array([500.0, 850.0])\n",
    "M4 = np.array([[3.0, 1.0], [2.0, 3.0]])\n",
    "v4 = np.array([750.0, 700.0]) \n",
    "M5 = np.array([[3.0, 1.0], [1.0, 5.0]])\n",
    "v5 = np.array([750.0, 850.0]) \n",
    "M6 = np.array([[2.0, 3.0], [1.0, 5.0]])\n",
    "v6 = np.array([700.0, 850.0]) \n",
    "print(np.linalg.solve(M1, v1))\n",
    "print(np.linalg.solve(M2, v2))\n",
    "print(np.linalg.solve(M3, v3))\n",
    "print(np.linalg.solve(M4, v4))\n",
    "print(np.linalg.solve(M5, v5))\n",
    "print(np.linalg.solve(M6, v6))"
   ]
  },
  {
   "cell_type": "markdown",
   "metadata": {},
   "source": [
    "##### 5. Предположим, мы взвешиваем  груши (х),  яблоки (y) и сливы (z). При этом, у нас есть дополнительная априорная информация о предполагаемом весе фруктов: предварительная оценка веса груши ~150, яблока у~100,  а сливы z~50?.  Оцените вес яблок, груш и слив:\n",
    "х+2у+5z=550\n",
    "3х+у+3z=800"
   ]
  },
  {
   "cell_type": "code",
   "execution_count": 313,
   "metadata": {},
   "outputs": [],
   "source": [
    "A5 = np.array([[1,2,5],[3,1,3]])\n",
    "x5 = np.array([150, 100, 50])\n",
    "v5 = np.array([550,800])\n",
    "X_a = np.dot(A5,x5)\n",
    "b5 = v5 - X_a"
   ]
  },
  {
   "cell_type": "code",
   "execution_count": 315,
   "metadata": {},
   "outputs": [
    {
     "data": {
      "text/plain": [
       "array([203.23529412,  88.82352941,  33.82352941])"
      ]
     },
     "execution_count": 315,
     "metadata": {},
     "output_type": "execute_result"
    }
   ],
   "source": [
    "Q = np.linalg.lstsq(A5, b5)\n",
    "x5+Q[0]"
   ]
  },
  {
   "cell_type": "markdown",
   "metadata": {},
   "source": [
    "##### 6. Решите систему:\n",
    "х+2у=10 \n",
    "1.05х+2.1у=12"
   ]
  },
  {
   "cell_type": "code",
   "execution_count": 2,
   "metadata": {},
   "outputs": [
    {
     "data": {
      "text/plain": [
       "array([ 1.08086391e+17, -5.40431955e+16])"
      ]
     },
     "execution_count": 2,
     "metadata": {},
     "output_type": "execute_result"
    }
   ],
   "source": [
    "M6 = np.array([[1.0, 2.0], [1.05, 2.1]]) # Матрица (левая часть системы)\n",
    "v6 = np.array([10.0, 12.0]) # Вектор (правая часть системы)\n",
    "np.linalg.solve(M6, v6)"
   ]
  },
  {
   "cell_type": "code",
   "execution_count": 4,
   "metadata": {},
   "outputs": [
    {
     "data": {
      "text/plain": [
       "array([2.14982164, 4.29964328])"
      ]
     },
     "execution_count": 4,
     "metadata": {},
     "output_type": "execute_result"
    }
   ],
   "source": [
    "Q6 =  np.linalg.lstsq(M6, v6)\n",
    "Q6[0]"
   ]
  }
 ],
 "metadata": {
  "kernelspec": {
   "display_name": "Python 3",
   "language": "python",
   "name": "python3"
  },
  "language_info": {
   "codemirror_mode": {
    "name": "ipython",
    "version": 3
   },
   "file_extension": ".py",
   "mimetype": "text/x-python",
   "name": "python",
   "nbconvert_exporter": "python",
   "pygments_lexer": "ipython3",
   "version": "3.7.3"
  }
 },
 "nbformat": 4,
 "nbformat_minor": 2
}
