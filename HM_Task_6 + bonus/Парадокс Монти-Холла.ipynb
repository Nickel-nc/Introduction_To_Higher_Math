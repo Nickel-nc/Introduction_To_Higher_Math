{
 "cells": [
  {
   "cell_type": "markdown",
   "metadata": {},
   "source": [
    "### Решение задачи с парадоксом Монти-Холла"
   ]
  },
  {
   "cell_type": "markdown",
   "metadata": {},
   "source": [
    " - Американская телеигра «Let’s Make a Deal» предлагает участникам выбрать одну из трёх дверей: \n",
    " - За одной из дверей находится (равновероятно) автомобиль, за двумя другими дверями — козы. \n",
    " - Вы выбираете одну из дверей, например, номер 1, после этого ведущий, который знает, где находится автомобиль, а где — козы, открывает одну из оставшихся дверей, например, номер 3, за которой находится коза. После этого он спрашивает вас — не желаете ли вы изменить свой выбор и выбрать дверь номер 2? \n",
    " - Увеличатся ли ваши шансы выиграть автомобиль, если вы примете предложение ведущего и измените свой выбор?\n",
    " - А если вы будете подбрасывать монету, и, если выпадет орел - менять выбор, а если решка - нет?"
   ]
  },
  {
   "cell_type": "code",
   "execution_count": 91,
   "metadata": {},
   "outputs": [],
   "source": [
    "N = 1000 # number of repeats \n",
    "\n",
    "# Game model:\n",
    "def not_change_mind(N):\n",
    "    game_counter = 0\n",
    "    wins = 0\n",
    "    \n",
    "    for i in range(N):\n",
    "        game_counter += 1  \n",
    "        r_guess = np.random.randint(1,4) # guess\n",
    "        t_answer = np.random.randint(1,4) # win case\n",
    "        if r_guess == t_answer:\n",
    "            wins += 1\n",
    "    return wins, game_counter\n",
    "\n",
    "def change_mind(N):\n",
    "    game_counter = 0\n",
    "    wins = 0\n",
    "    \n",
    "    for i in range(N):\n",
    "        game_counter += 1\n",
    "        f = [1,2,3]\n",
    "        flags = []    \n",
    "        r_guess = np.random.randint(1,4) # guess\n",
    "        t_answer = np.random.randint(1,4) # win case\n",
    "        flags.append(r_guess)\n",
    "        f.remove(r_guess)\n",
    "        if f[0] == t_answer:\n",
    "            flags.append(f[0])\n",
    "        elif f[1] == t_answer:\n",
    "            flags.append(f[1])\n",
    "        else:\n",
    "            flags.append(f[0])\n",
    "\n",
    "        # Change initial choice   \n",
    "        if flags[0] == r_guess:\n",
    "            final_guess = flags[1]\n",
    "        else:\n",
    "            final_guess = flags[0]\n",
    "        if final_guess == t_answer:\n",
    "            wins += 1\n",
    "    return wins, game_counter\n",
    "\n",
    "def chance_change_mind(N):\n",
    "    game_counter = 0\n",
    "    wins = 0\n",
    "    \n",
    "    for i in range(N):\n",
    "        game_counter += 1\n",
    "        f = [1,2,3]\n",
    "        flags = []    \n",
    "        r_guess = np.random.randint(1,4) # guess\n",
    "        t_answer = np.random.randint(1,4) # win case\n",
    "        flags.append(r_guess)\n",
    "        f.remove(r_guess)\n",
    "        if f[0] == t_answer: \n",
    "            flags.append(f[0])\n",
    "        elif f[1] == t_answer:\n",
    "            flags.append(f[1])\n",
    "        else:\n",
    "            flags.append(f[0])\n",
    "            \n",
    "        # throw coin\n",
    "        coin = np.random.randint(0,2)\n",
    "        if coin == 1 and r_guess == flags[0]:\n",
    "            final_guess = flags[1]\n",
    "        elif coin == 1 and r_guess == flags[1]:\n",
    "            final_guess = flags[0]\n",
    "        elif coin == 0 and r_guess == flags[0]:\n",
    "            final_guess = flags[0]\n",
    "        elif coin == 0 and r_guess == flags[1]:\n",
    "            final_guess = flags[1]\n",
    "        if final_guess == t_answer:\n",
    "            wins += 1\n",
    "        # print(f'coin {coin} guess {r_guess} final_guess {final_guess} t_answer {t_answer}')\n",
    "    return wins, game_counter"
   ]
  },
  {
   "cell_type": "code",
   "execution_count": 97,
   "metadata": {},
   "outputs": [
    {
     "name": "stdout",
     "output_type": "stream",
     "text": [
      "without changing(316, 1000)\n",
      "with changing (661, 1000)\n",
      "coin toggle change (503, 1000)\n"
     ]
    }
   ],
   "source": [
    "print(f'without changing{not_change_mind(N)}')\n",
    "print(f'with changing {change_mind(N)}')\n",
    "print(f'coin toggle change {chance_change_mind(N)}')"
   ]
  }
 ],
 "metadata": {
  "kernelspec": {
   "display_name": "Python 3",
   "language": "python",
   "name": "python3"
  },
  "language_info": {
   "codemirror_mode": {
    "name": "ipython",
    "version": 3
   },
   "file_extension": ".py",
   "mimetype": "text/x-python",
   "name": "python",
   "nbconvert_exporter": "python",
   "pygments_lexer": "ipython3",
   "version": "3.7.3"
  }
 },
 "nbformat": 4,
 "nbformat_minor": 2
}
