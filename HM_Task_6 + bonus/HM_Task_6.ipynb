{
 "cells": [
  {
   "cell_type": "markdown",
   "metadata": {},
   "source": [
    "# ВВЕДЕНИЕ В ВЫСШУЮ МАТЕМАТИКУ\n",
    "****************"
   ]
  },
  {
   "cell_type": "markdown",
   "metadata": {},
   "source": [
    "## Практическое задание к `Уроку 6`"
   ]
  },
  {
   "cell_type": "markdown",
   "metadata": {},
   "source": [
    "#### 1.\tЗадание (теорема сложения)\n",
    "\n",
    "Найти вероятность выпадения 2 или 5 очков при подбрасывании игральной кости, на гранях которой имеются соответственно 1,2,3,4,5 и 6 очков."
   ]
  },
  {
   "cell_type": "markdown",
   "metadata": {},
   "source": [
    "`Ответ:` \n",
    "\n",
    "$ \\sum_{i=1}^m P(A_{i}) = 1 $\n",
    "\n",
    "$ P(2) + P(5) = \\frac{1}{6} + \\frac{1}{6} = \\frac{2}{6}$"
   ]
  },
  {
   "cell_type": "markdown",
   "metadata": {},
   "source": [
    "#### 2.\tЗадание (теорема умножения)\n",
    "Найти вероятность того, что при двух подбрасываниях той же самой игральной кости сначала выпадет 2, а затем 5."
   ]
  },
  {
   "cell_type": "markdown",
   "metadata": {},
   "source": [
    "`Ответ:`\n",
    "\n",
    "$ P(2) \\cdot P(5) = \\frac{1}{6} \\cdot \\frac{1}{6} = \\frac{1}{36} = 0.0278$"
   ]
  },
  {
   "cell_type": "markdown",
   "metadata": {},
   "source": [
    "#### 3.\tЗадание \n",
    "Найти вероятность выпадения 2 и 5 очков при двух подбрасываниях той же самой игральной игральной кости."
   ]
  },
  {
   "cell_type": "markdown",
   "metadata": {},
   "source": [
    "`Ответ:`\n",
    "\n",
    "$ P(2) + P(5) \\cdot P(2|5) = \\frac{1}{6} + \\frac{1}{6} \\cdot \\frac{1}{6} = \\frac{1}{18} = 0.055$"
   ]
  },
  {
   "cell_type": "markdown",
   "metadata": {},
   "source": [
    "#### 4.\tЗадание  (Геометрическая вероятность +интервалы)\n",
    "На отрезке AB длиной 20 см наугад отметили точку C. Какова вероятность, что она находится на расстоянии не более 9 см от точки А и не более 15 см от точки В?"
   ]
  },
  {
   "cell_type": "markdown",
   "metadata": {},
   "source": [
    "`Ответ:` \n",
    "\n",
    "При выполнения условий отдаленности точка С должна попасть в отрезок длиной $9-(20-15) = 4 $ см\n",
    "\n",
    "Вероятность составит $\\frac{4}{20}=0.2$ "
   ]
  },
  {
   "cell_type": "markdown",
   "metadata": {},
   "source": [
    "#### 5.\tЗадание. \n",
    "Телефонный номер состоит из 7 цифр. Какова вероятность, что это номер 8882227?"
   ]
  },
  {
   "cell_type": "markdown",
   "metadata": {},
   "source": [
    "`Ответ:`\n",
    "\n",
    "$P(8) \\cdot P(8) \\cdot P(8) \\cdot P(2) \\cdot P(2) \\cdot P(2) \\cdot P(7) = \\frac{1}{10} \\cdot \\frac{1}{10} \\cdot \\frac{1}{10} \\cdot \\frac{1}{10} \\cdot \\frac{1}{10} \\cdot \\frac{1}{10} \\cdot \\frac{1}{10} \\cdot = \\frac{1}{10^7} = 1^{-7}$"
   ]
  },
  {
   "cell_type": "markdown",
   "metadata": {},
   "source": [
    "#### 6.\tЗадание. \n",
    "Набирая номер телефона, абонент забыл 2 последние цифры, и, помня только то, что эти цифры различны и среди них нет нуля, стал набирать их наудачу. Сколько вариантов ему надо перебрать, чтобы наверняка найти нужный номер? Какова вероятность того, что он угадает номер с первого раза?"
   ]
  },
  {
   "cell_type": "markdown",
   "metadata": {},
   "source": [
    "`Ответ:`\n",
    "\n",
    "Количество вариантов: $9^2-9=72$\n",
    "\n",
    "Вероятность угадать номер с первого раза: \n",
    "$\\frac{1}{72} = 0.0139$"
   ]
  },
  {
   "cell_type": "markdown",
   "metadata": {},
   "source": [
    "#### 7.\tЗадание** (необязательное) \n",
    "Чёрный куб покрасили снаружи белой краской, затем разрезали на 27 одинаковых маленьких кубиков и как попало сложили из них большой куб. С какой вероятностью все грани этого куба будут белыми?"
   ]
  },
  {
   "cell_type": "markdown",
   "metadata": {},
   "source": [
    "`Ответ:`\n",
    "\n",
    "Можно выделить 4 группы частей куба:\n",
    "- 6 центральных кубиков с 1 белой гранью:\n",
    "- 1 центральный куб без белых граней:\n",
    "- 12 частей от центральных ребер куба с 2 белыми гранями\n",
    "- 8 частей от вершин куба куба с 3  белыми гранями"
   ]
  },
  {
   "cell_type": "code",
   "execution_count": 42,
   "metadata": {},
   "outputs": [
    {
     "data": {
      "text/plain": [
       "1.8298051356415021e-37"
      ]
     },
     "execution_count": 42,
     "metadata": {},
     "output_type": "execute_result"
    }
   ],
   "source": [
    "from math import factorial as f\n",
    "\n",
    "# Количество кубиков для каждой группы\n",
    "n_cubes = 27\n",
    "n_center = 6\n",
    "n_core = 1\n",
    "n_ribs = 12\n",
    "n_vertex = 8\n",
    "\n",
    "# Количество вариантов расположений граней при вращении кубика\n",
    "s_center = 4\n",
    "s_core = 24\n",
    "s_ribs = 2\n",
    "s_vertex = 3\n",
    "\n",
    "rot = 6*4 # 24 варианта позиционирования граней в пространстве\n",
    "\n",
    "# Количество подходящих вариантов\n",
    "core = f(n_core) * s_core**n_core\n",
    "ribs = f(n_ribs) * s_ribs**n_ribs\n",
    "center = f(n_center) * s_center**n_center\n",
    "vertex = f(n_vertex) * s_vertex**n_vertex\n",
    "\n",
    "# Итоговая вероятность \n",
    "P = (core * ribs * center * vertex) / (f(n_cubes) * rot**n_cubes)\n",
    "P"
   ]
  },
  {
   "cell_type": "code",
   "execution_count": null,
   "metadata": {},
   "outputs": [],
   "source": []
  }
 ],
 "metadata": {
  "kernelspec": {
   "display_name": "Python 3",
   "language": "python",
   "name": "python3"
  },
  "language_info": {
   "codemirror_mode": {
    "name": "ipython",
    "version": 3
   },
   "file_extension": ".py",
   "mimetype": "text/x-python",
   "name": "python",
   "nbconvert_exporter": "python",
   "pygments_lexer": "ipython3",
   "version": "3.7.3"
  }
 },
 "nbformat": 4,
 "nbformat_minor": 2
}
