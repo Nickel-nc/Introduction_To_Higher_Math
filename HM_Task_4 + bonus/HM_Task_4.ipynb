{
 "cells": [
  {
   "cell_type": "markdown",
   "metadata": {},
   "source": [
    "# ВВЕДЕНИЕ В ВЫСШУЮ МАТЕМАТИКУ\n",
    "****************"
   ]
  },
  {
   "cell_type": "markdown",
   "metadata": {},
   "source": [
    "## Практическое задание к `Уроку 4`"
   ]
  },
  {
   "cell_type": "markdown",
   "metadata": {},
   "source": [
    "### Задание 1\n",
    "Напишите код, моделирующий выпадение поля в рулетке (с учетом поля зеро)."
   ]
  },
  {
   "cell_type": "code",
   "execution_count": 109,
   "metadata": {},
   "outputs": [],
   "source": [
    "import numpy as np\n",
    "from numpy import (pi,sin,arcsin,cos,arccos,tan,sqrt,exp)\n",
    "import itertools as it\n",
    "import math\n",
    "from math import factorial\n",
    "import matplotlib.pyplot as plt\n",
    "import pandas as pd\n",
    "from pylab import *\n",
    "import warnings\n",
    "warnings.filterwarnings('ignore')\n",
    "%matplotlib inline"
   ]
  },
  {
   "cell_type": "code",
   "execution_count": 2,
   "metadata": {},
   "outputs": [
    {
     "name": "stdout",
     "output_type": "stream",
     "text": [
      "Бросок 1: число - 21\n",
      "Бросок 2: число - 16\n",
      "Бросок 3: число - 15\n",
      "Бросок 4: число - 3\n",
      "Бросок 5: число - 21\n",
      "Бросок 6: число - 0\n",
      "Бросок 7: число - 17\n",
      "Бросок 8: число - 4\n",
      "Бросок 9: число - 9\n",
      "Бросок 10: число - 15\n"
     ]
    }
   ],
   "source": [
    "# Рулетка Белое + Черное + зеро = 37/37 (0ю36)\n",
    "N = 10 # число игр\n",
    "\n",
    "for i in range(N):\n",
    "    X = np.random.randint(0,37)\n",
    "    print(f'Бросок {i+1}: число - {X}')"
   ]
  },
  {
   "cell_type": "markdown",
   "metadata": {},
   "source": [
    "### Задание 2\n",
    "- 1)\tНапишите код, проверяющий любую из теорем сложения или умножения вероятности на примере рулетки или подбрасывания монетки.\n",
    "\n"
   ]
  },
  {
   "cell_type": "code",
   "execution_count": 3,
   "metadata": {},
   "outputs": [
    {
     "name": "stdout",
     "output_type": "stream",
     "text": [
      "Сумма вероятностей каждого из событий = 1.0\n"
     ]
    }
   ],
   "source": [
    "red = [32,19,21,25,34,27,36,30,23,5,16,1,14,9,18,7,12,3]\n",
    "black = [15,4,2,17,6,13,11,8,10,24,33,20,31,22,29,28,35,26]\n",
    "zero = [0]\n",
    "\n",
    "S = len(red) + len(black) + len(zero) # Количество вариантов\n",
    "\n",
    "P_red = len(red)/S # Вероятность выпадения красного\n",
    "P_black = len(black)/S # Вероятность выпадения черного\n",
    "P_zero = len(zero)/S # Вероятность выпадения зеро\n",
    "\n",
    "print(f'Сумма вероятностей каждого из событий = {P_red + P_black + P_zero}')"
   ]
  },
  {
   "cell_type": "code",
   "execution_count": 4,
   "metadata": {},
   "outputs": [
    {
     "name": "stdout",
     "output_type": "stream",
     "text": [
      "Вероятность выпадения двух шариков на красное = 0.22352081811541274\n"
     ]
    }
   ],
   "source": [
    "# Если бросать на одну рулетку сразу 2 шарика и посчитать вероятность, что оба упадут на красное,\n",
    "# то будет действовать закон умножения вероятностей\n",
    "\n",
    "P_double_red = P_red * (P_red - 1/S)\n",
    "\n",
    "print(f'Вероятность выпадения двух шариков на красное = {P_double_red}')"
   ]
  },
  {
   "cell_type": "markdown",
   "metadata": {},
   "source": [
    "- 2)\tСгенерируйте десять выборок случайных чисел х0, …, х9.\n",
    "и постройте гистограмму распределения случайной суммы х0+х1+ …+ х9."
   ]
  },
  {
   "cell_type": "code",
   "execution_count": 95,
   "metadata": {},
   "outputs": [],
   "source": [
    "def make_sum_dataset(size):\n",
    "    x = []   \n",
    "    for i in range(size):\n",
    "        x.append(np.sum(np.random.rand(10))) # Добавляет сумму из 10 случайных чисел к списку, длиной N\n",
    "    return x\n",
    "\n",
    "x = make_sum_dataset(10000)"
   ]
  },
  {
   "cell_type": "code",
   "execution_count": 96,
   "metadata": {},
   "outputs": [
    {
     "name": "stdout",
     "output_type": "stream",
     "text": [
      "mu = 4.996014746023304, D = 0.8317610368910837, std = 0.9120093403529833\n"
     ]
    },
    {
     "data": {
      "image/png": "[encoded data removed]",
      "text/plain": [
       "<Figure size 432x288 with 1 Axes>"
      ]
     },
     "metadata": {
      "needs_background": "light"
     },
     "output_type": "display_data"
    }
   ],
   "source": [
    "mu = np.mean(x) # Среднее\n",
    "D = np.var(x) # Дисперсия\n",
    "std = np.std(x) # Среднеквадратичное отклонение\n",
    "print(f'mu = {mu}, D = {D}, std = {std}')\n",
    "\n",
    "num_bins = 40\n",
    "n, bins, patches = plt.hist(x, num_bins, density=1, facecolor='b', alpha=0.5)\n",
    "y = mlab.normpdf(bins, mu, std)\n",
    "plt.plot(bins, y, 'r--')\n",
    "plt.xlabel('Sum x0...x9 ')\n",
    "plt.ylabel('Probability')\n",
    "plt.show()"
   ]
  },
  {
   "cell_type": "markdown",
   "metadata": {},
   "source": [
    "### Задание 3\n",
    "\n",
    "- 1)\tДополните код Монте-Карло последовательности независимых испытаний расчетом соответствующих вероятностей (через биномиальное распределение) \n",
    "и сравните результаты.\n"
   ]
  },
  {
   "cell_type": "markdown",
   "metadata": {},
   "source": [
    "Последовательность независимых испытаний:\n",
    "\n",
    "$\\\\\n",
    "P_n(k) = C_n^kp^kq^{n-k}=C_n^k\\frac{1}{2^n} \\\\\n",
    "C_n^k=\\frac{n!}{k!(n-k)!}$"
   ]
  },
  {
   "cell_type": "code",
   "execution_count": 107,
   "metadata": {
    "scrolled": true
   },
   "outputs": [
    {
     "name": "stdout",
     "output_type": "stream",
     "text": [
      "k = 4, n = 10,\n",
      "- k/n = 0.4,\n",
      "- C_n_k = 210.0,\n",
      "- Pn_k = 0.205078125\n",
      "\n"
     ]
    }
   ],
   "source": [
    "# Используем пример с подбрасыванием монеты\n",
    "\n",
    "def compute_P(k, n):\n",
    "    a = np.random.randint(0, 2, n)\n",
    "    b = np.random.randint(0, 2, n)\n",
    "    c = np.random.randint(0, 2, n)\n",
    "    d = np.random.randint(0, 2, n)\n",
    "    x = a + b + c + d\n",
    "    for i in range(0, n):\n",
    "        if x[i] == 2:\n",
    "            k = k + 1 \n",
    "    C_n_k = factorial(n)/(factorial(k)*factorial(n-k)) # Расчет вероятности с помощью формулы Бернулли\n",
    "    Pn_K = C_n_k/2**n\n",
    "    return k, n, C_n_k, Pn_K\n",
    "\n",
    "k, n, C_n_k, Pn_K = compute_P(0, 10)\n",
    "print(f'k = {k}, n = {n},\\n- k/n = {k/n},\\n- C_n_k = {C_n_k},\\n- Pn_k = {C_n_k/2**n}')\n",
    "print()"
   ]
  },
  {
   "cell_type": "markdown",
   "metadata": {},
   "source": [
    "- 2)\tПовторите расчеты биномиальных коэффициентов и вероятностей k успехов в последовательности из n независимых испытаний, взяв другие значения n и k."
   ]
  },
  {
   "cell_type": "code",
   "execution_count": 114,
   "metadata": {},
   "outputs": [],
   "source": [
    "def create_p_dataset(n_0, n_max):\n",
    "    k, n, C_n_k, Pn_k = [], [], [], []\n",
    "\n",
    "    for i in range(n_0,n_max):\n",
    "        k_tmp, n_tmp, C_n_k_tmp, Pn_k_tmp = compute_P(0, i)\n",
    "        k.append(k_tmp)\n",
    "        n.append(n_tmp)\n",
    "        C_n_k.append(C_n_k_tmp)\n",
    "        Pn_k.append(Pn_k_tmp)\n",
    "    \n",
    "    df = pd.DataFrame(n, columns=['n'])\n",
    "    df['k'], df['Pn_k'], df['C_n_k'] = k, Pn_k, C_n_k\n",
    "    df['k/n'] = df['k']/df['n']\n",
    "    return df"
   ]
  },
  {
   "cell_type": "code",
   "execution_count": 115,
   "metadata": {
    "scrolled": true
   },
   "outputs": [
    {
     "data": {
      "text/html": [
       "<div>\n",
       "<style scoped>\n",
       "    .dataframe tbody tr th:only-of-type {\n",
       "        vertical-align: middle;\n",
       "    }\n",
       "\n",
       "    .dataframe tbody tr th {\n",
       "        vertical-align: top;\n",
       "    }\n",
       "\n",
       "    .dataframe thead th {\n",
       "        text-align: right;\n",
       "    }\n",
       "</style>\n",
       "<table border=\"1\" class=\"dataframe\">\n",
       "  <thead>\n",
       "    <tr style=\"text-align: right;\">\n",
       "      <th></th>\n",
       "      <th>n</th>\n",
       "      <th>k</th>\n",
       "      <th>Pn_k</th>\n",
       "      <th>C_n_k</th>\n",
       "      <th>k/n</th>\n",
       "    </tr>\n",
       "  </thead>\n",
       "  <tbody>\n",
       "    <tr>\n",
       "      <th>0</th>\n",
       "      <td>5</td>\n",
       "      <td>4</td>\n",
       "      <td>0.156250</td>\n",
       "      <td>5.0</td>\n",
       "      <td>0.800000</td>\n",
       "    </tr>\n",
       "    <tr>\n",
       "      <th>1</th>\n",
       "      <td>6</td>\n",
       "      <td>2</td>\n",
       "      <td>0.234375</td>\n",
       "      <td>15.0</td>\n",
       "      <td>0.333333</td>\n",
       "    </tr>\n",
       "    <tr>\n",
       "      <th>2</th>\n",
       "      <td>7</td>\n",
       "      <td>1</td>\n",
       "      <td>0.054688</td>\n",
       "      <td>7.0</td>\n",
       "      <td>0.142857</td>\n",
       "    </tr>\n",
       "    <tr>\n",
       "      <th>3</th>\n",
       "      <td>8</td>\n",
       "      <td>1</td>\n",
       "      <td>0.031250</td>\n",
       "      <td>8.0</td>\n",
       "      <td>0.125000</td>\n",
       "    </tr>\n",
       "    <tr>\n",
       "      <th>4</th>\n",
       "      <td>9</td>\n",
       "      <td>3</td>\n",
       "      <td>0.164062</td>\n",
       "      <td>84.0</td>\n",
       "      <td>0.333333</td>\n",
       "    </tr>\n",
       "  </tbody>\n",
       "</table>\n",
       "</div>"
      ],
      "text/plain": [
       "   n  k      Pn_k  C_n_k       k/n\n",
       "0  5  4  0.156250    5.0  0.800000\n",
       "1  6  2  0.234375   15.0  0.333333\n",
       "2  7  1  0.054688    7.0  0.142857\n",
       "3  8  1  0.031250    8.0  0.125000\n",
       "4  9  3  0.164062   84.0  0.333333"
      ]
     },
     "execution_count": 115,
     "metadata": {},
     "output_type": "execute_result"
    }
   ],
   "source": [
    "df = create_p_dataset(5,501)\n",
    "df.head()"
   ]
  },
  {
   "cell_type": "code",
   "execution_count": 126,
   "metadata": {},
   "outputs": [
    {
     "data": {
      "image/png": "[encoded data removed]",
      "text/plain": [
       "<Figure size 1008x432 with 4 Axes>"
      ]
     },
     "metadata": {
      "needs_background": "light"
     },
     "output_type": "display_data"
    }
   ],
   "source": [
    "fig, ax = plt.subplots(nrows=2, ncols=2)\n",
    "ax1, ax2, ax3, ax4 = ax.flatten()\n",
    "ax1.plot(df['n'], df['k'])\n",
    "ax1.set_xlabel('$n$', fontsize=14)\n",
    "ax1.set_ylabel('$k$', fontsize=14)\n",
    "\n",
    "ax2.plot(df['n'], df['Pn_k'])\n",
    "ax2.set_xlabel('$n$',fontsize=14)\n",
    "ax2.set_ylabel('$P_n(k)$',fontsize=14)\n",
    "\n",
    "ax3.scatter(df['n'], df['C_n_k'])\n",
    "ax3.set_xlabel('$n$',fontsize=14)\n",
    "ax3.set_ylabel('$C_n^k$',fontsize=14)\n",
    "ax3.set_yscale('log')\n",
    "\n",
    "ax4.plot(df['n'], df['k/n'])\n",
    "ax4.set_xlabel('$n$',fontsize=14)\n",
    "ax4.set_ylabel('$k/n$',fontsize=14)\n",
    "# ax4.set_aspect(1)\n",
    "\n",
    "\n",
    "fig.set_size_inches(14, 6)\n",
    "plt.subplots_adjust(wspace=0.3, hspace=0.3)"
   ]
  },
  {
   "cell_type": "markdown",
   "metadata": {},
   "source": [
    "### Задание 4\n",
    "Из урока по комбинаторике повторите расчеты, сгенерировав возможные варианты перестановок для других значений n и k"
   ]
  },
  {
   "cell_type": "code",
   "execution_count": 110,
   "metadata": {
    "scrolled": true
   },
   "outputs": [
    {
     "name": "stdout",
     "output_type": "stream",
     "text": [
      "Combinations for \"9hjk0\", n:5, k:4 = 5\n",
      "Permutations for \"9hjk0\", n:5, k:4 = 120\n",
      "Product for \"9hjk0\", n:5, k:4 = 625\n"
     ]
    }
   ],
   "source": [
    "text = '9hjk0'\n",
    "key = 4\n",
    "d1, d2, d3 = list(it.combinations(text, key)), list(it.permutations(text, key)), list(it.product(text, repeat=key))\n",
    "print(f'Combinations for \\\"{text}\\\", n:{len(text)}, k:{key} = {len(d1)}')\n",
    "print(f'Permutations for \\\"{text}\\\", n:{len(text)}, k:{key} = {len(d2)}')\n",
    "print(f'Product for \\\"{text}\\\", n:{len(text)}, k:{key} = {len(d3)}')"
   ]
  },
  {
   "cell_type": "markdown",
   "metadata": {},
   "source": [
    "### Задание 5\n",
    "Дополните код расчетом коэффициента корреляции x и y по формуле\n",
    "### $R = \\frac{\\sum(x_i-x_m)(y_i-y_m)}{\\sqrt{\\sum(x_i-x_m)^2 \\sum (y_i-y_m)^2}}$ "
   ]
  },
  {
   "cell_type": "code",
   "execution_count": 111,
   "metadata": {},
   "outputs": [
    {
     "name": "stdout",
     "output_type": "stream",
     "text": [
      "a = 0.744682681103492, b = 0.1335863671443964\n",
      "a1 = 0.7446826811034917, b1 = 0.13358636714439678\n",
      "corr 1 = 0.9203860952988462\n",
      "corr 2 = [0.9203861 1.       ]\n"
     ]
    },
    {
     "data": {
      "image/png": "[encoded data removed]",
      "text/plain": [
       "<Figure size 432x288 with 1 Axes>"
      ]
     },
     "metadata": {
      "needs_background": "light"
     },
     "output_type": "display_data"
    }
   ],
   "source": [
    "n = 100\n",
    "r = 0.7\n",
    "x = np.random.rand(n)\n",
    "y = r*x + (1 - r) * np.random.rand(n)\n",
    "plt.plot(x, y, 'o')\n",
    "plt.xlabel('x')\n",
    "plt.ylabel('y')\n",
    "plt.grid(True)\n",
    "\n",
    "a = (np.sum(x)*np.sum(y) - n*np.sum(x*y))/(np.sum(x)*np.sum(x) - n*np.sum(x*x))\n",
    "b = (np.sum(y) - a* np.sum(x))/n\n",
    "\n",
    "corr_1 = (np.sum((x-np.mean(x))*(y-np.mean(y))))/sqrt(np.sum((x-np.mean(x))**2)*np.sum((y-np.mean(y))**2))\n",
    "corr_2 = np.corrcoef(x,y)\n",
    "\n",
    "A = np.vstack([x, np.ones(len(x))]).T\n",
    "a1, b1 = np.linalg.lstsq(A, y)[0]\n",
    "print(f'a = {a}, b = {b}')\n",
    "print(f'a1 = {a1}, b1 = {b1}')\n",
    "print(f'corr 1 = {corr_1}\\ncorr 2 = {corr_2[1]}')\n",
    "plt.plot([0, 1], [b, a + b])\n",
    "plt.show()"
   ]
  },
  {
   "cell_type": "code",
   "execution_count": null,
   "metadata": {},
   "outputs": [],
   "source": []
  }
 ],
 "metadata": {
  "kernelspec": {
   "display_name": "Python 3",
   "language": "python",
   "name": "python3"
  },
  "language_info": {
   "codemirror_mode": {
    "name": "ipython",
    "version": 3
   },
   "file_extension": ".py",
   "mimetype": "text/x-python",
   "name": "python",
   "nbconvert_exporter": "python",
   "pygments_lexer": "ipython3",
   "version": "3.7.3"
  }
 },
 "nbformat": 4,
 "nbformat_minor": 2
}
